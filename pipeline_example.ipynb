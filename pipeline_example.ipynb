{
  "nbformat": 4,
  "nbformat_minor": 0,
  "metadata": {
    "colab": {
      "provenance": [],
      "authorship_tag": "ABX9TyMWQISPkdA90g9nYFfSXcM4",
      "include_colab_link": true
    },
    "kernelspec": {
      "name": "python3",
      "display_name": "Python 3"
    },
    "language_info": {
      "name": "python"
    }
  },
  "cells": [
    {
      "cell_type": "markdown",
      "metadata": {
        "id": "view-in-github",
        "colab_type": "text"
      },
      "source": [
        "<a href=\"https://colab.research.google.com/github/ChoiJMS2/Colab_Study/blob/main/pipeline_example.ipynb\" target=\"_parent\"><img src=\"https://colab.research.google.com/assets/colab-badge.svg\" alt=\"Open In Colab\"/></a>"
      ]
    },
    {
      "cell_type": "code",
      "execution_count": 1,
      "metadata": {
        "colab": {
          "base_uri": "https://localhost:8080/"
        },
        "id": "WWD9yinpzIct",
        "outputId": "6e6290d8-0cd1-4725-af36-79c85f6cbfe4"
      },
      "outputs": [
        {
          "output_type": "stream",
          "name": "stdout",
          "text": [
            "선택된 변수 : ['x2' 'x3']\n",
            "\n",
            "[[-1.34022653 -1.3154443 ]\n",
            " [-1.34022653 -1.3154443 ]\n",
            " [-1.39706395 -1.3154443 ]\n",
            " [-1.2833891  -1.3154443 ]\n",
            " [-1.34022653 -1.3154443 ]]\n",
            "\n",
            "예측 :  [0 0 0]\n",
            "학습 정확도 :  0.9733333333333334\n"
          ]
        }
      ],
      "source": [
        "# 필요한 라이브러리 불러오기\n",
        "from sklearn.feature_selection import SelectKBest, f_classif\n",
        "from sklearn.pipeline import Pipeline, make_pipeline\n",
        "from sklearn.preprocessing import StandardScaler\n",
        "from sklearn.tree import DecisionTreeClassifier\n",
        "from sklearn.datasets import load_iris\n",
        "\n",
        "## 붓꽃 데이터 준비\n",
        "iris = load_iris()  # 붓꽃 데이터 불러오기\n",
        "\n",
        "X = iris.data  # 데이터에서 특징 변수를 X에 할당\n",
        "y = iris.target  # 데이터에서 목적 변수를 y에 할당\n",
        "\n",
        "## 변수 선택\n",
        "feat_sel = SelectKBest(f_classif, k=2)  # f_classif 방법으로 k=2개 변수 선택\n",
        "X_selected = feat_sel.fit_transform(X, y)  # 선택된 변수를 X_selected에 할당\n",
        "print('선택된 변수 :', feat_sel.get_feature_names_out())  # 선택된 변수 이름 출력\n",
        "print()\n",
        "\n",
        "## 표준화\n",
        "scaler = StandardScaler()  # StandardScaler() 객체 생성\n",
        "scaler.fit(X_selected)  # X_selected 데이터에 맞게 표준화를 적합\n",
        "X_transformed = scaler.transform(X_selected)  # 표준화된 데이터를 X_transformed에 할당\n",
        "print(X_transformed[:5, :])  # 처음 5개 샘플의 표준화된 데이터 출력\n",
        "print()\n",
        "\n",
        "## 모델 학습\n",
        "clf = DecisionTreeClassifier(max_depth=3)  # 최대 깊이가 3인 의사결정나무 모델 생성\n",
        "clf.fit(X_transformed, y)  # 모델 적합\n",
        "print('예측 : ', clf.predict(X_transformed)[:3])  # 처음 3개 샘플에 대한 예측 결과 출력\n",
        "print('학습 정확도 : ', clf.score(X_transformed, y))  # 모델의 학습 정확도 출력"
      ]
    },
    {
      "cell_type": "code",
      "source": [
        "## 작업 등록\n",
        "pipeline = Pipeline([('Feature_Selection', SelectKBest(f_classif, k=2)), # 변수 선택\n",
        " ('Standardization', StandardScaler()),  # 표준화\n",
        " ('Decision_Tree', DecisionTreeClassifier(max_depth=3)) # 학습 모델\n",
        "])\n",
        " \n",
        "pipeline.fit(X, y) # 모형 학습\n",
        "print(pipeline.predict(X)[:3]) # 예측\n",
        "print(pipeline.score(X, y)) # 성능 평가"
      ],
      "metadata": {
        "colab": {
          "base_uri": "https://localhost:8080/"
        },
        "id": "GND-uAd2zL72",
        "outputId": "265c0970-d2e9-4b72-e627-fa5d7ab2232d"
      },
      "execution_count": 2,
      "outputs": [
        {
          "output_type": "stream",
          "name": "stdout",
          "text": [
            "[0 0 0]\n",
            "0.9733333333333334\n"
          ]
        }
      ]
    },
    {
      "cell_type": "code",
      "source": [
        "pipeline = make_pipeline(SelectKBest(f_classif, k=2), \n",
        "              StandardScaler(), \n",
        "              DecisionTreeClassifier(max_depth=3))\n",
        "pipeline"
      ],
      "metadata": {
        "colab": {
          "base_uri": "https://localhost:8080/",
          "height": 161
        },
        "id": "puZTfiIfz73G",
        "outputId": "1438cd0d-96f9-43c2-822a-da22123e4f30"
      },
      "execution_count": 3,
      "outputs": [
        {
          "output_type": "execute_result",
          "data": {
            "text/plain": [
              "Pipeline(steps=[('selectkbest', SelectKBest(k=2)),\n",
              "                ('standardscaler', StandardScaler()),\n",
              "                ('decisiontreeclassifier',\n",
              "                 DecisionTreeClassifier(max_depth=3))])"
            ],
            "text/html": [
              "<style>#sk-container-id-1 {color: black;background-color: white;}#sk-container-id-1 pre{padding: 0;}#sk-container-id-1 div.sk-toggleable {background-color: white;}#sk-container-id-1 label.sk-toggleable__label {cursor: pointer;display: block;width: 100%;margin-bottom: 0;padding: 0.3em;box-sizing: border-box;text-align: center;}#sk-container-id-1 label.sk-toggleable__label-arrow:before {content: \"▸\";float: left;margin-right: 0.25em;color: #696969;}#sk-container-id-1 label.sk-toggleable__label-arrow:hover:before {color: black;}#sk-container-id-1 div.sk-estimator:hover label.sk-toggleable__label-arrow:before {color: black;}#sk-container-id-1 div.sk-toggleable__content {max-height: 0;max-width: 0;overflow: hidden;text-align: left;background-color: #f0f8ff;}#sk-container-id-1 div.sk-toggleable__content pre {margin: 0.2em;color: black;border-radius: 0.25em;background-color: #f0f8ff;}#sk-container-id-1 input.sk-toggleable__control:checked~div.sk-toggleable__content {max-height: 200px;max-width: 100%;overflow: auto;}#sk-container-id-1 input.sk-toggleable__control:checked~label.sk-toggleable__label-arrow:before {content: \"▾\";}#sk-container-id-1 div.sk-estimator input.sk-toggleable__control:checked~label.sk-toggleable__label {background-color: #d4ebff;}#sk-container-id-1 div.sk-label input.sk-toggleable__control:checked~label.sk-toggleable__label {background-color: #d4ebff;}#sk-container-id-1 input.sk-hidden--visually {border: 0;clip: rect(1px 1px 1px 1px);clip: rect(1px, 1px, 1px, 1px);height: 1px;margin: -1px;overflow: hidden;padding: 0;position: absolute;width: 1px;}#sk-container-id-1 div.sk-estimator {font-family: monospace;background-color: #f0f8ff;border: 1px dotted black;border-radius: 0.25em;box-sizing: border-box;margin-bottom: 0.5em;}#sk-container-id-1 div.sk-estimator:hover {background-color: #d4ebff;}#sk-container-id-1 div.sk-parallel-item::after {content: \"\";width: 100%;border-bottom: 1px solid gray;flex-grow: 1;}#sk-container-id-1 div.sk-label:hover label.sk-toggleable__label {background-color: #d4ebff;}#sk-container-id-1 div.sk-serial::before {content: \"\";position: absolute;border-left: 1px solid gray;box-sizing: border-box;top: 0;bottom: 0;left: 50%;z-index: 0;}#sk-container-id-1 div.sk-serial {display: flex;flex-direction: column;align-items: center;background-color: white;padding-right: 0.2em;padding-left: 0.2em;position: relative;}#sk-container-id-1 div.sk-item {position: relative;z-index: 1;}#sk-container-id-1 div.sk-parallel {display: flex;align-items: stretch;justify-content: center;background-color: white;position: relative;}#sk-container-id-1 div.sk-item::before, #sk-container-id-1 div.sk-parallel-item::before {content: \"\";position: absolute;border-left: 1px solid gray;box-sizing: border-box;top: 0;bottom: 0;left: 50%;z-index: -1;}#sk-container-id-1 div.sk-parallel-item {display: flex;flex-direction: column;z-index: 1;position: relative;background-color: white;}#sk-container-id-1 div.sk-parallel-item:first-child::after {align-self: flex-end;width: 50%;}#sk-container-id-1 div.sk-parallel-item:last-child::after {align-self: flex-start;width: 50%;}#sk-container-id-1 div.sk-parallel-item:only-child::after {width: 0;}#sk-container-id-1 div.sk-dashed-wrapped {border: 1px dashed gray;margin: 0 0.4em 0.5em 0.4em;box-sizing: border-box;padding-bottom: 0.4em;background-color: white;}#sk-container-id-1 div.sk-label label {font-family: monospace;font-weight: bold;display: inline-block;line-height: 1.2em;}#sk-container-id-1 div.sk-label-container {text-align: center;}#sk-container-id-1 div.sk-container {/* jupyter's `normalize.less` sets `[hidden] { display: none; }` but bootstrap.min.css set `[hidden] { display: none !important; }` so we also need the `!important` here to be able to override the default hidden behavior on the sphinx rendered scikit-learn.org. See: https://github.com/scikit-learn/scikit-learn/issues/21755 */display: inline-block !important;position: relative;}#sk-container-id-1 div.sk-text-repr-fallback {display: none;}</style><div id=\"sk-container-id-1\" class=\"sk-top-container\"><div class=\"sk-text-repr-fallback\"><pre>Pipeline(steps=[(&#x27;selectkbest&#x27;, SelectKBest(k=2)),\n",
              "                (&#x27;standardscaler&#x27;, StandardScaler()),\n",
              "                (&#x27;decisiontreeclassifier&#x27;,\n",
              "                 DecisionTreeClassifier(max_depth=3))])</pre><b>In a Jupyter environment, please rerun this cell to show the HTML representation or trust the notebook. <br />On GitHub, the HTML representation is unable to render, please try loading this page with nbviewer.org.</b></div><div class=\"sk-container\" hidden><div class=\"sk-item sk-dashed-wrapped\"><div class=\"sk-label-container\"><div class=\"sk-label sk-toggleable\"><input class=\"sk-toggleable__control sk-hidden--visually\" id=\"sk-estimator-id-1\" type=\"checkbox\" ><label for=\"sk-estimator-id-1\" class=\"sk-toggleable__label sk-toggleable__label-arrow\">Pipeline</label><div class=\"sk-toggleable__content\"><pre>Pipeline(steps=[(&#x27;selectkbest&#x27;, SelectKBest(k=2)),\n",
              "                (&#x27;standardscaler&#x27;, StandardScaler()),\n",
              "                (&#x27;decisiontreeclassifier&#x27;,\n",
              "                 DecisionTreeClassifier(max_depth=3))])</pre></div></div></div><div class=\"sk-serial\"><div class=\"sk-item\"><div class=\"sk-estimator sk-toggleable\"><input class=\"sk-toggleable__control sk-hidden--visually\" id=\"sk-estimator-id-2\" type=\"checkbox\" ><label for=\"sk-estimator-id-2\" class=\"sk-toggleable__label sk-toggleable__label-arrow\">SelectKBest</label><div class=\"sk-toggleable__content\"><pre>SelectKBest(k=2)</pre></div></div></div><div class=\"sk-item\"><div class=\"sk-estimator sk-toggleable\"><input class=\"sk-toggleable__control sk-hidden--visually\" id=\"sk-estimator-id-3\" type=\"checkbox\" ><label for=\"sk-estimator-id-3\" class=\"sk-toggleable__label sk-toggleable__label-arrow\">StandardScaler</label><div class=\"sk-toggleable__content\"><pre>StandardScaler()</pre></div></div></div><div class=\"sk-item\"><div class=\"sk-estimator sk-toggleable\"><input class=\"sk-toggleable__control sk-hidden--visually\" id=\"sk-estimator-id-4\" type=\"checkbox\" ><label for=\"sk-estimator-id-4\" class=\"sk-toggleable__label sk-toggleable__label-arrow\">DecisionTreeClassifier</label><div class=\"sk-toggleable__content\"><pre>DecisionTreeClassifier(max_depth=3)</pre></div></div></div></div></div></div></div>"
            ]
          },
          "metadata": {},
          "execution_count": 3
        }
      ]
    },
    {
      "cell_type": "code",
      "source": [
        "## 중간 결과 보기 - 인덱스를 이용한 방법\n",
        "## 선택된 변수 보기\n",
        "var_selected = pipeline[0].fit_transform(X, y)  # 파이프라인의 첫 번째 단계인 FeatureSelection을 적용한 후 선택된 변수들만 추출\n",
        "print('선택된 변수 :', pipeline[0].get_feature_names_out())  # FeatureSelection으로 선택된 변수들의 이름 출력\n",
        "print()\n",
        "## 표준화가 잘되었는지 확인하기\n",
        "var_selected = pipeline[0].get_feature_names_out()\n",
        "X_selected = X[:,[int(x.replace('x','')) for x in var_selected]]  # 선택된 변수들의 인덱스를 이용해 X에서 해당 변수들만 추출\n",
        "X_transformed = pipeline[1].fit_transform(X_selected)  # 파이프라인의 두 번째 단계인 StandardScaler를 이용해 데이터 표준화\n",
        "print(X_transformed[:5, :])  # 표준화된 데이터의 처음 5개 행 출력"
      ],
      "metadata": {
        "colab": {
          "base_uri": "https://localhost:8080/"
        },
        "id": "x6IdPxC5z921",
        "outputId": "afb712d1-9583-428d-aaac-8e6e7df39ebd"
      },
      "execution_count": 4,
      "outputs": [
        {
          "output_type": "stream",
          "name": "stdout",
          "text": [
            "선택된 변수 : ['x2' 'x3']\n",
            "\n",
            "[[-1.34022653 -1.3154443 ]\n",
            " [-1.34022653 -1.3154443 ]\n",
            " [-1.39706395 -1.3154443 ]\n",
            " [-1.2833891  -1.3154443 ]\n",
            " [-1.34022653 -1.3154443 ]]\n"
          ]
        }
      ]
    },
    {
      "cell_type": "code",
      "source": [
        "pipeline.named_steps"
      ],
      "metadata": {
        "colab": {
          "base_uri": "https://localhost:8080/"
        },
        "id": "9Ut_u9iQ0BEG",
        "outputId": "ec2a83d3-ecbe-44b5-ac95-62abfce33a20"
      },
      "execution_count": 5,
      "outputs": [
        {
          "output_type": "execute_result",
          "data": {
            "text/plain": [
              "{'selectkbest': SelectKBest(k=2),\n",
              " 'standardscaler': StandardScaler(),\n",
              " 'decisiontreeclassifier': DecisionTreeClassifier(max_depth=3)}"
            ]
          },
          "metadata": {},
          "execution_count": 5
        }
      ]
    },
    {
      "cell_type": "code",
      "source": [
        "## 중간 결과 보기 - named_steps 이용한 방법\n",
        "## 선택된 변수 보기\n",
        "var_selected = pipeline.named_steps['selectkbest'].fit_transform(X, y)  # 파이프라인의 selectkbest 단계를 적용한 후 선택된 변수들만 추출\n",
        "print('선택된 변수 :', pipeline.named_steps['selectkbest'].get_feature_names_out())  # selectkbest 단계에서 선택된 변수들의 이름 출력\n",
        "print()\n",
        "\n",
        "## 표준화가 잘되었는지 확인하기\n",
        "var_selected = pipeline.named_steps['selectkbest'].get_feature_names_out()  # selectkbest 단계에서 선택된 변수들의 이름 추출\n",
        "X_selected = X[:,[int(x.replace('x','')) for x in var_selected]]  # 선택된 변수들의 인덱스를 이용해 X에서 해당 변수들만 추출\n",
        "X_transformed = pipeline.named_steps['standardscaler'].transform(X_selected)  # 파이프라인의 StandardScaler 단계를 이용해 데이터 표준화\n",
        "print(X_transformed[:5, :])  # 표준화된 데이터의 처음 5개 행 출력"
      ],
      "metadata": {
        "colab": {
          "base_uri": "https://localhost:8080/"
        },
        "id": "7IObWYdp0GsG",
        "outputId": "274800ee-d900-4b4e-93bb-ef825f6ea59b"
      },
      "execution_count": 6,
      "outputs": [
        {
          "output_type": "stream",
          "name": "stdout",
          "text": [
            "선택된 변수 : ['x2' 'x3']\n",
            "\n",
            "[[-1.34022653 -1.3154443 ]\n",
            " [-1.34022653 -1.3154443 ]\n",
            " [-1.39706395 -1.3154443 ]\n",
            " [-1.2833891  -1.3154443 ]\n",
            " [-1.34022653 -1.3154443 ]]\n"
          ]
        }
      ]
    },
    {
      "cell_type": "code",
      "source": [],
      "metadata": {
        "id": "SYvYeZbw0Npd"
      },
      "execution_count": 6,
      "outputs": []
    }
  ]
}