{
  "nbformat": 4,
  "nbformat_minor": 0,
  "metadata": {
    "colab": {
      "provenance": [],
      "toc_visible": true,
      "authorship_tag": "ABX9TyOkAd1M/jyycLj7yb2K6S0e",
      "include_colab_link": true
    },
    "kernelspec": {
      "name": "python3",
      "display_name": "Python 3"
    },
    "language_info": {
      "name": "python"
    }
  },
  "cells": [
    {
      "cell_type": "markdown",
      "metadata": {
        "id": "view-in-github",
        "colab_type": "text"
      },
      "source": [
        "<a href=\"https://colab.research.google.com/github/ChoiJMS2/Colab_Study/blob/main/20230412.ipynb\" target=\"_parent\"><img src=\"https://colab.research.google.com/assets/colab-badge.svg\" alt=\"Open In Colab\"/></a>"
      ]
    },
    {
      "cell_type": "markdown",
      "source": [
        "# 데이터타입\n",
        "- int, str, float, bool이 있음"
      ],
      "metadata": {
        "id": "jLTv43xy_6FE"
      }
    },
    {
      "cell_type": "markdown",
      "source": [
        "## int형\n",
        " - 나이를 입력하고 출력"
      ],
      "metadata": {
        "id": "ZkRB6htKAEPL"
      }
    },
    {
      "cell_type": "code",
      "source": [
        "num_int = 36\n",
        "print (num_int)\n",
        "print(type(num_int))"
      ],
      "metadata": {
        "colab": {
          "base_uri": "https://localhost:8080/"
        },
        "id": "lb_W-H_3AEAd",
        "outputId": "07c0b0f2-94ab-4b66-ecb2-2a36c0c7d312"
      },
      "execution_count": 2,
      "outputs": [
        {
          "output_type": "stream",
          "name": "stdout",
          "text": [
            "36\n",
            "<class 'int'>\n"
          ]
        }
      ]
    },
    {
      "cell_type": "markdown",
      "source": [
        "## float 형\n",
        " - 키 입력"
      ],
      "metadata": {
        "id": "Nq0m0uamBBzC"
      }
    },
    {
      "cell_type": "code",
      "source": [
        "my_height = 185.6\n",
        "print(my_height)\n",
        "print(type(my_height))"
      ],
      "metadata": {
        "colab": {
          "base_uri": "https://localhost:8080/"
        },
        "id": "_TXnVOFSBFdC",
        "outputId": "db996c5c-5814-4bf7-92f4-cfe3e3667d4a"
      },
      "execution_count": 3,
      "outputs": [
        {
          "output_type": "stream",
          "name": "stdout",
          "text": [
            "185.6\n",
            "<class 'float'>\n"
          ]
        }
      ]
    },
    {
      "cell_type": "markdown",
      "source": [
        "##str형\n",
        "-임의의 닉네임을 입력하고 출력"
      ],
      "metadata": {
        "id": "RnAgmUTSBNza"
      }
    },
    {
      "cell_type": "code",
      "source": [
        "my_name=\"James\"\n",
        "print(my_name)\n",
        "print(type(my_name))"
      ],
      "metadata": {
        "colab": {
          "base_uri": "https://localhost:8080/"
        },
        "id": "d73CXt0HBRtb",
        "outputId": "2d966fd3-87f6-4895-d47e-1d602cd478d2"
      },
      "execution_count": 4,
      "outputs": [
        {
          "output_type": "stream",
          "name": "stdout",
          "text": [
            "James\n",
            "<class 'str'>\n"
          ]
        }
      ]
    },
    {
      "cell_type": "markdown",
      "source": [
        "##bool 형\n",
        "- 논리 / 참 or 거짓"
      ],
      "metadata": {
        "id": "c2E8ID4fBZAD"
      }
    },
    {
      "cell_type": "code",
      "source": [
        "x = True\n",
        "y = False\n",
        "z = x == y\n",
        "\n",
        "print(type(x))\n",
        "print(z)\n",
        "print(type(z))"
      ],
      "metadata": {
        "colab": {
          "base_uri": "https://localhost:8080/"
        },
        "id": "Z3nCsAe8CIkb",
        "outputId": "fc61a2f8-ce14-4fe9-8aaf-1e51d3467a0f"
      },
      "execution_count": 8,
      "outputs": [
        {
          "output_type": "stream",
          "name": "stdout",
          "text": [
            "<class 'bool'>\n",
            "False\n",
            "<class 'bool'>\n"
          ]
        }
      ]
    },
    {
      "cell_type": "markdown",
      "source": [
        "# 사칙연산"
      ],
      "metadata": {
        "id": "9CQD8oIEAmeT"
      }
    },
    {
      "cell_type": "code",
      "source": [
        "x = 6\n",
        "y = 3\n",
        "\n",
        "print(x + y)\n",
        "print(x - y)\n",
        "print(x * y)\n",
        "print(x / y)\n",
        "print(x % y)  # 나머지\n",
        "print(x // y) # 몫\n",
        "print(x ** y) # 제곱"
      ],
      "metadata": {
        "colab": {
          "base_uri": "https://localhost:8080/"
        },
        "id": "_ECBHXhlChBc",
        "outputId": "abc9771a-5271-48df-9d02-48a6cbb7406c"
      },
      "execution_count": 10,
      "outputs": [
        {
          "output_type": "stream",
          "name": "stdout",
          "text": [
            "9\n",
            "3\n",
            "18\n",
            "2.0\n",
            "0\n",
            "2\n",
            "216\n"
          ]
        }
      ]
    },
    {
      "cell_type": "code",
      "source": [
        "x = 10\n",
        "y = 11\n",
        "\n",
        "print(x == y)\n",
        "print(x != y)\n",
        "print(x > y)\n",
        "print(x < y)\n",
        "print(x <= y)\n",
        "print(x >= y)"
      ],
      "metadata": {
        "colab": {
          "base_uri": "https://localhost:8080/"
        },
        "id": "Z-uoys-KDx6c",
        "outputId": "52548bb4-be97-425a-9b99-5c21730a4f53"
      },
      "execution_count": 11,
      "outputs": [
        {
          "output_type": "stream",
          "name": "stdout",
          "text": [
            "False\n",
            "True\n",
            "False\n",
            "True\n",
            "True\n",
            "False\n"
          ]
        }
      ]
    },
    {
      "cell_type": "markdown",
      "source": [
        "# 형변환\n",
        "- 데이터 형태 변환"
      ],
      "metadata": {
        "id": "j3NclFzrEKCD"
      }
    },
    {
      "cell_type": "code",
      "source": [
        "a = int(input(\"숫자를 입력해주세요...\"))  # class 변경 (str > int)\n",
        "print(a)\n",
        "print(type(a))"
      ],
      "metadata": {
        "colab": {
          "base_uri": "https://localhost:8080/"
        },
        "id": "Y2yOwEvhEFR7",
        "outputId": "7bcba99e-a45b-4c96-e9be-0bb50ce71208"
      },
      "execution_count": 17,
      "outputs": [
        {
          "output_type": "stream",
          "name": "stdout",
          "text": [
            "숫자를 입력해주세요...123\n",
            "123\n",
            "<class 'int'>\n"
          ]
        }
      ]
    },
    {
      "cell_type": "markdown",
      "source": [
        "# String\n",
        "- String 연산자\n",
        "\n"
      ],
      "metadata": {
        "id": "yORQcW2hEtAD"
      }
    },
    {
      "cell_type": "code",
      "source": [
        "a = \"소년은\"\n",
        "b = \"봄을\"\n",
        "c = \"좋아합니다.!\"\n",
        "\n",
        "letter = a + \" \" + b + \" \" + c\n",
        "print(a+b+c)\n",
        "print(letter)"
      ],
      "metadata": {
        "colab": {
          "base_uri": "https://localhost:8080/"
        },
        "id": "vRKb-jOWExiU",
        "outputId": "a3cc2b22-b6a2-4168-c976-bf6e21652447"
      },
      "execution_count": 19,
      "outputs": [
        {
          "output_type": "stream",
          "name": "stdout",
          "text": [
            "소년은봄을좋아합니다.!\n",
            "소년은 봄을 좋아합니다.!\n"
          ]
        }
      ]
    },
    {
      "cell_type": "markdown",
      "source": [
        " - String 연산자 (*)"
      ],
      "metadata": {
        "id": "AqiBVpE1Fmp7"
      }
    },
    {
      "cell_type": "code",
      "source": [
        "x = \"봄\"\n",
        "lyrics = x*3 + \" \" + \"봄이~ 왔어요~\"\n",
        "print(lyrics)"
      ],
      "metadata": {
        "colab": {
          "base_uri": "https://localhost:8080/"
        },
        "id": "pyqrtVXyFqJj",
        "outputId": "e9f976db-7791-4720-9c3a-0bf80d18111a"
      },
      "execution_count": 21,
      "outputs": [
        {
          "output_type": "stream",
          "name": "stdout",
          "text": [
            "봄봄봄 봄이~ 왔어요~\n"
          ]
        }
      ]
    },
    {
      "cell_type": "markdown",
      "source": [
        "# 인덱싱 & 슬라이싱\n",
        "- 인덱싱"
      ],
      "metadata": {
        "id": "rOIHytseF4Yk"
      }
    },
    {
      "cell_type": "code",
      "source": [
        "x = \"Hello World!!\"\n",
        "\n",
        "# 첫번째 문제 : Hello의 알파벳 o 추출\n",
        "print(x[4])\n",
        "\n",
        "# 두번째 문제 : World의 알파벳 l 추출\n",
        "print(x[9])\n",
        "\n"
      ],
      "metadata": {
        "colab": {
          "base_uri": "https://localhost:8080/"
        },
        "id": "g-kTvPxeF9Mc",
        "outputId": "af53f648-311e-458d-d84e-e6fa74d2b4a1"
      },
      "execution_count": 27,
      "outputs": [
        {
          "output_type": "stream",
          "name": "stdout",
          "text": [
            "o\n",
            "l\n"
          ]
        }
      ]
    },
    {
      "cell_type": "markdown",
      "source": [
        "-슬라이싱\n",
        " [시작위치:종료위치:건너뛸칸수]"
      ],
      "metadata": {
        "id": "wZFSyFfDIJEE"
      }
    },
    {
      "cell_type": "code",
      "source": [
        "x = \"Hello World!!\"\n",
        "\n",
        "# 세번째 문제 : World 글자 출력\n",
        "print(x[6:11:1])\n",
        "\n",
        "print(x[:])"
      ],
      "metadata": {
        "colab": {
          "base_uri": "https://localhost:8080/"
        },
        "id": "dTa2HYTFIKXU",
        "outputId": "2faac7e5-d5f2-44f4-b143-5757435f2529"
      },
      "execution_count": 35,
      "outputs": [
        {
          "output_type": "stream",
          "name": "stdout",
          "text": [
            "World\n",
            "Hello World!!\n"
          ]
        }
      ]
    },
    {
      "cell_type": "code",
      "source": [
        "x = \"Hello World!!\"\n",
        "\n",
        "# 바꾸고 싶은것, Aello Wolrd!!\n",
        "\n",
        "y = x[1:]\n",
        "z = \"A\" + y\n",
        "print(z)\n"
      ],
      "metadata": {
        "colab": {
          "base_uri": "https://localhost:8080/"
        },
        "id": "yRVU8dpCN1k9",
        "outputId": "4a197fc9-5c91-4a41-c210-91462b6d27a6"
      },
      "execution_count": 41,
      "outputs": [
        {
          "output_type": "stream",
          "name": "stdout",
          "text": [
            "Aello World!!\n"
          ]
        }
      ]
    },
    {
      "cell_type": "markdown",
      "source": [
        "# 문자열 메서드\n",
        " - 점프투 파이썬 : http://wikidocs.net/13"
      ],
      "metadata": {
        "id": "8ImJgINXP-Dm"
      }
    },
    {
      "cell_type": "code",
      "source": [
        "sampleText = \"hello, kaggle\"\n",
        "upper_text = sampleText.upper()\n",
        "print(upper_text)"
      ],
      "metadata": {
        "id": "vixpW9xZP-l_"
      },
      "execution_count": 42,
      "outputs": []
    },
    {
      "cell_type": "code",
      "source": [
        "sampleNum = 123\n",
        "upper_text = sampleNum.upper()\n",
        "print(upper_text)"
      ],
      "metadata": {
        "colab": {
          "base_uri": "https://localhost:8080/",
          "height": 211
        },
        "id": "NMEruXgeQUnZ",
        "outputId": "d295d99e-45f5-444c-e684-3871d227a1f6"
      },
      "execution_count": 43,
      "outputs": [
        {
          "output_type": "error",
          "ename": "AttributeError",
          "evalue": "ignored",
          "traceback": [
            "\u001b[0;31m---------------------------------------------------------------------------\u001b[0m",
            "\u001b[0;31mAttributeError\u001b[0m                            Traceback (most recent call last)",
            "\u001b[0;32m<ipython-input-43-5e5d9b81bb48>\u001b[0m in \u001b[0;36m<cell line: 2>\u001b[0;34m()\u001b[0m\n\u001b[1;32m      1\u001b[0m \u001b[0msampleNum\u001b[0m \u001b[0;34m=\u001b[0m \u001b[0;36m123\u001b[0m\u001b[0;34m\u001b[0m\u001b[0;34m\u001b[0m\u001b[0m\n\u001b[0;32m----> 2\u001b[0;31m \u001b[0mupper_text\u001b[0m \u001b[0;34m=\u001b[0m \u001b[0msampleNum\u001b[0m\u001b[0;34m.\u001b[0m\u001b[0mupper\u001b[0m\u001b[0;34m(\u001b[0m\u001b[0;34m)\u001b[0m\u001b[0;34m\u001b[0m\u001b[0;34m\u001b[0m\u001b[0m\n\u001b[0m\u001b[1;32m      3\u001b[0m \u001b[0mprint\u001b[0m\u001b[0;34m(\u001b[0m\u001b[0mupper_text\u001b[0m\u001b[0;34m)\u001b[0m\u001b[0;34m\u001b[0m\u001b[0;34m\u001b[0m\u001b[0m\n",
            "\u001b[0;31mAttributeError\u001b[0m: 'int' object has no attribute 'upper'"
          ]
        }
      ]
    },
    {
      "cell_type": "code",
      "source": [
        "sampleText = \"hello, kaggle\"\n",
        "new_text = sampleText.replace(\"hello\", \"welcome\")\n",
        "print(new_text)"
      ],
      "metadata": {
        "colab": {
          "base_uri": "https://localhost:8080/"
        },
        "id": "fOuksr0mUqro",
        "outputId": "ab49f224-d0c9-4fe9-b638-9a9ae24101d2"
      },
      "execution_count": 45,
      "outputs": [
        {
          "output_type": "stream",
          "name": "stdout",
          "text": [
            "welcome, kaggle\n"
          ]
        }
      ]
    },
    {
      "cell_type": "markdown",
      "source": [
        "- str.replace(old, new[, count])\n",
        "  + Return a copy of the string with all occurrences of substring old replaced by new. If the optional argument count is given, only the first count occurrences are replaced."
      ],
      "metadata": {
        "id": "1VVgoX26Ufc-"
      }
    },
    {
      "cell_type": "markdown",
      "source": [
        "# List 리스트\n",
        "- 시퀀스 데이터예요! 반복문을 쓸 수 있어요!!"
      ],
      "metadata": {
        "id": "jiuFcSp50mZS"
      }
    },
    {
      "cell_type": "code",
      "source": [
        "from collections.abc import Sequence\n",
        "my_num    = 100\n",
        "my_list   = [1, 2, 3]\n",
        "my_string = \"hello\"\n",
        "\n",
        "isSeq1 = isinstance(my_num, Sequence)\n",
        "print(isSeq1)\n",
        "\n",
        "isSeq2 = isinstance(my_list, Sequence)\n",
        "print(isSeq2)\n",
        "\n",
        "isSeq3 = isinstance(my_string, Sequence)\n",
        "print(isSeq3)"
      ],
      "metadata": {
        "colab": {
          "base_uri": "https://localhost:8080/"
        },
        "id": "64_C84z7U9lf",
        "outputId": "67dc38f4-e7db-46e5-ab9b-dd47e25e0037"
      },
      "execution_count": 2,
      "outputs": [
        {
          "output_type": "stream",
          "name": "stdout",
          "text": [
            "False\n",
            "True\n",
            "True\n"
          ]
        }
      ]
    },
    {
      "cell_type": "markdown",
      "source": [
        "## 인덱싱 & 슬라이싱\n",
        "- 문자열 했던 것과 방식 동일"
      ],
      "metadata": {
        "id": "9plWTuxe2XpL"
      }
    },
    {
      "cell_type": "code",
      "source": [
        "a = [\"가\", \"나\", \"다\"]\n",
        "print(a[0])\n",
        "print(a[1])\n",
        "print(a[2])\n",
        "print(a[-1])\n",
        "print(a[-2])\n",
        "print(a[:])\n",
        "print(a[1:3])"
      ],
      "metadata": {
        "colab": {
          "base_uri": "https://localhost:8080/"
        },
        "id": "ITWpNqmH2c-j",
        "outputId": "ee6ced8f-2c69-44d5-c613-7806ce807aea"
      },
      "execution_count": 8,
      "outputs": [
        {
          "output_type": "stream",
          "name": "stdout",
          "text": [
            "가\n",
            "나\n",
            "다\n",
            "다\n",
            "나\n",
            "['가', '나', '다']\n",
            "['나', '다']\n"
          ]
        }
      ]
    },
    {
      "cell_type": "code",
      "source": [
        "a = [1, 2, ['Apple', '사과', 'Banana', '키위'], 4, 5, 6]\n",
        "print(a)"
      ],
      "metadata": {
        "colab": {
          "base_uri": "https://localhost:8080/"
        },
        "id": "SDzLeAsS2uCL",
        "outputId": "62b0a8ac-40e2-4c01-a8fe-6a01a10b63b0"
      },
      "execution_count": 9,
      "outputs": [
        {
          "output_type": "stream",
          "name": "stdout",
          "text": [
            "[1, 2, ['Apple', '사과', 'Banana', '키위'], 4, 5, 6]\n"
          ]
        }
      ]
    },
    {
      "cell_type": "code",
      "source": [
        "# 문제 : Banana 글자에서 마지막 알파벳 a (글자의 마지막) 추출\n",
        "\n",
        "b = a[2]\n",
        "c = b[2]\n",
        "print(c[5])\n",
        "\n",
        "d = a[2][2]\n",
        "print(d[5])\n",
        "\n",
        "print(a[2][2][5])\n",
        "# 문제2 : 사과, Banana, 키위를 슬라이싱 해서 추출\n",
        "\n",
        "b=a[2]\n",
        "print(b[1:5])\n",
        "print(a[2][1:5])\n"
      ],
      "metadata": {
        "colab": {
          "base_uri": "https://localhost:8080/"
        },
        "id": "vmN1pCo126Mr",
        "outputId": "79aa2067-6919-422d-fdd1-24e832a9d519"
      },
      "execution_count": 23,
      "outputs": [
        {
          "output_type": "stream",
          "name": "stdout",
          "text": [
            "a\n",
            "a\n",
            "a\n",
            "['사과', 'Banana', '키위']\n",
            "['사과', 'Banana', '키위']\n"
          ]
        }
      ]
    },
    {
      "cell_type": "markdown",
      "source": [
        "## 리스트 메서드 종류\n",
        "- Lists may be constructed in several ways:\n",
        "  + Using a pair of square brackets to denote the empty list: []\n",
        "  + Using square brackets, separating items with commas: [a], [a, b, c]\n",
        "  + Using a list comprehension: [x for x in iterable]\n",
        "  + Using the type constructor: list() or list(iterable)\n",
        "\n",
        "- https://docs.python.org/3.11/tutorial/datastructures.html"
      ],
      "metadata": {
        "id": "toR55fo024uN"
      }
    },
    {
      "cell_type": "markdown",
      "source": [
        "### append()"
      ],
      "metadata": {
        "id": "vBD4RNy_6t9H"
      }
    },
    {
      "cell_type": "code",
      "source": [
        "x = [\"가\", \"나\"]\n",
        "x.append(\"다\")\n",
        "print(x)"
      ],
      "metadata": {
        "colab": {
          "base_uri": "https://localhost:8080/"
        },
        "id": "O9PgFQ256xkD",
        "outputId": "7bf89fb0-9c85-4b01-b69a-a777b1439a6f"
      },
      "execution_count": 25,
      "outputs": [
        {
          "output_type": "stream",
          "name": "stdout",
          "text": [
            "['가', '나', '다']\n"
          ]
        }
      ]
    },
    {
      "cell_type": "code",
      "source": [
        "x = [\"가\", \"나\"]\n",
        "texts = [\"다\", \"라\", \"마\"]\n",
        "x.append(texts)\n",
        "print(x)"
      ],
      "metadata": {
        "colab": {
          "base_uri": "https://localhost:8080/"
        },
        "id": "ERlPPwN47hIj",
        "outputId": "0f430bec-c08e-4679-f760-0c406d38aa55"
      },
      "execution_count": 26,
      "outputs": [
        {
          "output_type": "stream",
          "name": "stdout",
          "text": [
            "['가', '나', ['다', '라', '마']]\n"
          ]
        }
      ]
    },
    {
      "cell_type": "markdown",
      "source": [
        "### insert()\n",
        " - 인덱스 번호를 지정한 후, 새로운 값 추가"
      ],
      "metadata": {
        "id": "aaLrSbSu8Dbj"
      }
    },
    {
      "cell_type": "code",
      "source": [
        "x = [\"가\", \"나\", \"라\"]\n",
        "x.insert(2, \"다\")\n",
        "print(x)\n",
        "\n",
        "\n",
        "y = [\"아\", \"유\"]\n",
        "y.insert(1, \"이\")\n",
        "print(y)"
      ],
      "metadata": {
        "colab": {
          "base_uri": "https://localhost:8080/"
        },
        "id": "fXt6f8bs8JAL",
        "outputId": "032ec3d7-2780-496b-fb29-ebe40c2ee2ec"
      },
      "execution_count": 29,
      "outputs": [
        {
          "output_type": "stream",
          "name": "stdout",
          "text": [
            "['가', '나', '다', '라']\n",
            "['아', '이', '유']\n"
          ]
        }
      ]
    },
    {
      "cell_type": "markdown",
      "source": [
        "## 리스트 값 변경"
      ],
      "metadata": {
        "id": "0Kue_TiH8fG1"
      }
    },
    {
      "cell_type": "code",
      "source": [
        "x = [\"가\", \"나\", \"C\", \"라\"]\n",
        "x[2] = \"다\"\n",
        "print(x)"
      ],
      "metadata": {
        "colab": {
          "base_uri": "https://localhost:8080/"
        },
        "id": "HxM1G0098h37",
        "outputId": "100ed8fe-3c00-47af-d1a7-5660d4886789"
      },
      "execution_count": 30,
      "outputs": [
        {
          "output_type": "stream",
          "name": "stdout",
          "text": [
            "['가', '나', '다', '라']\n"
          ]
        }
      ]
    },
    {
      "cell_type": "markdown",
      "source": [
        "## 리스트 값 삭제"
      ],
      "metadata": {
        "id": "2yQ76pib85N0"
      }
    },
    {
      "cell_type": "code",
      "source": [
        "dates = [412, 510, 531, 1010]\n",
        "\n",
        "# 412 제거\n",
        "dates.remove(412)\n",
        "\n",
        "print(dates)\n",
        "\n",
        "#del\n",
        "\n",
        "del dates[0]\n",
        "dates"
      ],
      "metadata": {
        "colab": {
          "base_uri": "https://localhost:8080/"
        },
        "id": "43ViMLx587TM",
        "outputId": "7f39169e-bf95-499f-b026-93041de9a441"
      },
      "execution_count": 33,
      "outputs": [
        {
          "output_type": "stream",
          "name": "stdout",
          "text": [
            "[510, 531, 1010]\n"
          ]
        },
        {
          "output_type": "execute_result",
          "data": {
            "text/plain": [
              "[531, 1010]"
            ]
          },
          "metadata": {},
          "execution_count": 33
        }
      ]
    },
    {
      "cell_type": "markdown",
      "source": [
        "# 튜플\n",
        " - 리스트와 비슷\n",
        " - 차이점도 존재"
      ],
      "metadata": {
        "id": "-qoWW3-gBtbO"
      }
    },
    {
      "cell_type": "code",
      "source": [
        "my_tuple = (\"Hi\", 1, 2, 3)\n",
        "print(my_tuple)\n",
        "print(type(my_tuple))"
      ],
      "metadata": {
        "colab": {
          "base_uri": "https://localhost:8080/"
        },
        "id": "1377p-24BxYm",
        "outputId": "6eca269c-9b08-4ee2-b859-f8b7c5369546"
      },
      "execution_count": 34,
      "outputs": [
        {
          "output_type": "stream",
          "name": "stdout",
          "text": [
            "('Hi', 1, 2, 3)\n",
            "<class 'tuple'>\n"
          ]
        }
      ]
    },
    {
      "cell_type": "code",
      "source": [
        "my_nested_tuple = (\"Hi\", [1, 2, 3], (3.11, 3.23, 21.1))\n",
        "print(my_nested_tuple)\n",
        "print(type(my_nested_tuple))"
      ],
      "metadata": {
        "colab": {
          "base_uri": "https://localhost:8080/"
        },
        "id": "2zf1tusvCO1U",
        "outputId": "abeb7565-91d9-4ba7-9428-8e66e874cfb0"
      },
      "execution_count": 35,
      "outputs": [
        {
          "output_type": "stream",
          "name": "stdout",
          "text": [
            "('Hi', [1, 2, 3], (3.11, 3.23, 21.1))\n",
            "<class 'tuple'>\n"
          ]
        }
      ]
    },
    {
      "cell_type": "markdown",
      "source": [
        "### 리스트와 튜플의 공통점\n",
        " - 인덱싱 & 슬라이싱은 동일함"
      ],
      "metadata": {
        "id": "1v-LeIw_CNqN"
      }
    },
    {
      "cell_type": "code",
      "source": [
        "a = (1, 2, ('Apple', '사과', 'Banana', '키위'), 4, 5, 6)\n",
        "print(a)\n",
        "print(type(a))"
      ],
      "metadata": {
        "colab": {
          "base_uri": "https://localhost:8080/"
        },
        "id": "eZnV6UMRCgJF",
        "outputId": "c71b22d7-7d41-4c47-dc80-816710d3f770"
      },
      "execution_count": 37,
      "outputs": [
        {
          "output_type": "stream",
          "name": "stdout",
          "text": [
            "(1, 2, ('Apple', '사과', 'Banana', '키위'), 4, 5, 6)\n",
            "<class 'tuple'>\n"
          ]
        }
      ]
    },
    {
      "cell_type": "code",
      "source": [
        "print(a[2][2][-1])"
      ],
      "metadata": {
        "colab": {
          "base_uri": "https://localhost:8080/"
        },
        "id": "2AgMz5cXCqtl",
        "outputId": "2756b9b0-8507-48c1-e873-07f0fe540421"
      },
      "execution_count": 39,
      "outputs": [
        {
          "output_type": "stream",
          "name": "stdout",
          "text": [
            "a\n"
          ]
        }
      ]
    },
    {
      "cell_type": "markdown",
      "source": [
        "# 리스트의 값 수정"
      ],
      "metadata": {
        "id": "ax5SFlfqC3-1"
      }
    },
    {
      "cell_type": "code",
      "source": [
        "# 리스트의 값 수정\n",
        "x = [\"가\", \"나\", \"C\", \"라\"]\n",
        "x[2] = \"다\"\n",
        "print(x)\n",
        "\n",
        "y = (\"가\", \"나\", \"C\", \"라\")\n",
        "y[2] = \"다\"\n",
        "print(y)"
      ],
      "metadata": {
        "colab": {
          "base_uri": "https://localhost:8080/",
          "height": 248
        },
        "id": "gE8hf2ERC7CM",
        "outputId": "b9151cb5-e438-4dc5-c5c9-7f4bef82792d"
      },
      "execution_count": 41,
      "outputs": [
        {
          "output_type": "stream",
          "name": "stdout",
          "text": [
            "['가', '나', '다', '라']\n"
          ]
        },
        {
          "output_type": "error",
          "ename": "TypeError",
          "evalue": "ignored",
          "traceback": [
            "\u001b[0;31m---------------------------------------------------------------------------\u001b[0m",
            "\u001b[0;31mTypeError\u001b[0m                                 Traceback (most recent call last)",
            "\u001b[0;32m<ipython-input-41-6d74147bf20a>\u001b[0m in \u001b[0;36m<cell line: 7>\u001b[0;34m()\u001b[0m\n\u001b[1;32m      5\u001b[0m \u001b[0;34m\u001b[0m\u001b[0m\n\u001b[1;32m      6\u001b[0m \u001b[0my\u001b[0m \u001b[0;34m=\u001b[0m \u001b[0;34m(\u001b[0m\u001b[0;34m\"가\"\u001b[0m\u001b[0;34m,\u001b[0m \u001b[0;34m\"나\"\u001b[0m\u001b[0;34m,\u001b[0m \u001b[0;34m\"C\"\u001b[0m\u001b[0;34m,\u001b[0m \u001b[0;34m\"라\"\u001b[0m\u001b[0;34m)\u001b[0m\u001b[0;34m\u001b[0m\u001b[0;34m\u001b[0m\u001b[0m\n\u001b[0;32m----> 7\u001b[0;31m \u001b[0my\u001b[0m\u001b[0;34m[\u001b[0m\u001b[0;36m2\u001b[0m\u001b[0;34m]\u001b[0m \u001b[0;34m=\u001b[0m \u001b[0;34m\"다\"\u001b[0m\u001b[0;34m\u001b[0m\u001b[0;34m\u001b[0m\u001b[0m\n\u001b[0m\u001b[1;32m      8\u001b[0m \u001b[0mprint\u001b[0m\u001b[0;34m(\u001b[0m\u001b[0my\u001b[0m\u001b[0;34m)\u001b[0m\u001b[0;34m\u001b[0m\u001b[0;34m\u001b[0m\u001b[0m\n",
            "\u001b[0;31mTypeError\u001b[0m: 'tuple' object does not support item assignment"
          ]
        }
      ]
    },
    {
      "cell_type": "code",
      "source": [
        "dates = (412, 510, 531, 1010)\n",
        "\n",
        "# 412 제거\n",
        "dates.remove(412)\n",
        "\n",
        "print(dates)\n",
        "\n",
        "#del\n",
        "\n",
        "del dates[0]\n",
        "dates"
      ],
      "metadata": {
        "colab": {
          "base_uri": "https://localhost:8080/",
          "height": 248
        },
        "id": "BhoZjDcrDdn2",
        "outputId": "875ec315-65db-453c-f595-b26ed4405421"
      },
      "execution_count": 43,
      "outputs": [
        {
          "output_type": "error",
          "ename": "AttributeError",
          "evalue": "ignored",
          "traceback": [
            "\u001b[0;31m---------------------------------------------------------------------------\u001b[0m",
            "\u001b[0;31mAttributeError\u001b[0m                            Traceback (most recent call last)",
            "\u001b[0;32m<ipython-input-43-592dfb5205b3>\u001b[0m in \u001b[0;36m<cell line: 4>\u001b[0;34m()\u001b[0m\n\u001b[1;32m      2\u001b[0m \u001b[0;34m\u001b[0m\u001b[0m\n\u001b[1;32m      3\u001b[0m \u001b[0;31m# 412 제거\u001b[0m\u001b[0;34m\u001b[0m\u001b[0;34m\u001b[0m\u001b[0m\n\u001b[0;32m----> 4\u001b[0;31m \u001b[0mdates\u001b[0m\u001b[0;34m.\u001b[0m\u001b[0mremove\u001b[0m\u001b[0;34m(\u001b[0m\u001b[0;36m412\u001b[0m\u001b[0;34m)\u001b[0m\u001b[0;34m\u001b[0m\u001b[0;34m\u001b[0m\u001b[0m\n\u001b[0m\u001b[1;32m      5\u001b[0m \u001b[0;34m\u001b[0m\u001b[0m\n\u001b[1;32m      6\u001b[0m \u001b[0mprint\u001b[0m\u001b[0;34m(\u001b[0m\u001b[0mdates\u001b[0m\u001b[0;34m)\u001b[0m\u001b[0;34m\u001b[0m\u001b[0;34m\u001b[0m\u001b[0m\n",
            "\u001b[0;31mAttributeError\u001b[0m: 'tuple' object has no attribute 'remove'"
          ]
        }
      ]
    },
    {
      "cell_type": "code",
      "source": [
        "my_tuple = (\"가\", \"가\", \"나\", \"나\", \"나\", \"다\", \"라\")\n",
        "print(my_tuple.count(\"나\"))\n",
        "print(my_tuple.index(\"나\"))\n"
      ],
      "metadata": {
        "colab": {
          "base_uri": "https://localhost:8080/"
        },
        "id": "8n_WdZZVEYf9",
        "outputId": "e47a2bd2-22d5-48cb-f36a-60f5a6ef1fe8"
      },
      "execution_count": 45,
      "outputs": [
        {
          "output_type": "stream",
          "name": "stdout",
          "text": [
            "3\n",
            "2\n"
          ]
        }
      ]
    },
    {
      "cell_type": "markdown",
      "source": [
        "# 딕셔너리"
      ],
      "metadata": {
        "id": "CsSRdnq4FOV1"
      }
    },
    {
      "cell_type": "code",
      "source": [
        "my_dic = {\n",
        "    'name'      : 'James',\n",
        "    'age'       : 36,\n",
        "    'job'       : '학생, 취준생',\n",
        "    'shopping'  : [1, 2, 3]\n",
        "}\n",
        "\n",
        "# 문제 : 태어난 도시를 추가하세요. key-value 값 알아서 작성\n",
        "\n",
        "my_dic['city'] = 'Seoul'\n",
        "\n",
        "# 값 수정\n",
        "my_dic['shopping']  = '가방'\n",
        "\n",
        "# 가방 제거\n",
        "\n",
        "del my_dic['shopping']\n",
        "\n",
        "my_dic"
      ],
      "metadata": {
        "colab": {
          "base_uri": "https://localhost:8080/"
        },
        "id": "s7-gexXhFQPN",
        "outputId": "d7fdf153-a066-4f7b-c699-665733a0f4a9"
      },
      "execution_count": 71,
      "outputs": [
        {
          "output_type": "execute_result",
          "data": {
            "text/plain": [
              "{'name': 'James', 'age': 36, 'job': '학생, 취준생', 'city': 'Seoul'}"
            ]
          },
          "metadata": {},
          "execution_count": 71
        }
      ]
    },
    {
      "cell_type": "code",
      "source": [
        "my_dic.keys()"
      ],
      "metadata": {
        "colab": {
          "base_uri": "https://localhost:8080/"
        },
        "id": "IPXfqJk4Ii7O",
        "outputId": "b89e73f7-1a44-4f44-cf89-eae0f3071d58"
      },
      "execution_count": 72,
      "outputs": [
        {
          "output_type": "execute_result",
          "data": {
            "text/plain": [
              "dict_keys(['name', 'age', 'job', 'city'])"
            ]
          },
          "metadata": {},
          "execution_count": 72
        }
      ]
    },
    {
      "cell_type": "code",
      "source": [
        "my_dic.values()"
      ],
      "metadata": {
        "colab": {
          "base_uri": "https://localhost:8080/"
        },
        "id": "R20pJimpIusO",
        "outputId": "247253dc-12cf-43a4-d99f-b25ba5fbec85"
      },
      "execution_count": 73,
      "outputs": [
        {
          "output_type": "execute_result",
          "data": {
            "text/plain": [
              "dict_values(['James', 36, '학생, 취준생', 'Seoul'])"
            ]
          },
          "metadata": {},
          "execution_count": 73
        }
      ]
    },
    {
      "cell_type": "code",
      "source": [
        "my_dic.items()"
      ],
      "metadata": {
        "colab": {
          "base_uri": "https://localhost:8080/"
        },
        "id": "C-27DPg_Iufm",
        "outputId": "857c397d-4771-43d7-d49c-0b03859a0e6b"
      },
      "execution_count": 74,
      "outputs": [
        {
          "output_type": "execute_result",
          "data": {
            "text/plain": [
              "dict_items([('name', 'James'), ('age', 36), ('job', '학생, 취준생'), ('city', 'Seoul')])"
            ]
          },
          "metadata": {},
          "execution_count": 74
        }
      ]
    },
    {
      "cell_type": "code",
      "source": [
        "for i in my_dic:\n",
        "  # 인덱스 번호로 할당이 되거나 그럼게 아님 / key 값!\n",
        "  print(my_dic[i])"
      ],
      "metadata": {
        "colab": {
          "base_uri": "https://localhost:8080/"
        },
        "id": "wWQw-AbwJLdG",
        "outputId": "e0dfcc2a-984b-4748-a654-3a7215ee5d01"
      },
      "execution_count": 77,
      "outputs": [
        {
          "output_type": "stream",
          "name": "stdout",
          "text": [
            "James\n",
            "36\n",
            "학생, 취준생\n",
            "Seoul\n"
          ]
        }
      ]
    },
    {
      "cell_type": "markdown",
      "source": [
        "# 조건문\n",
        "- if-else, if문 작성 시 , 조건 >> True"
      ],
      "metadata": {
        "id": "B_FCFPt5Jj5Q"
      }
    },
    {
      "cell_type": "code",
      "source": [
        "a = 30\n",
        "b = 31\n",
        "if a >= b:\n",
        "  print(\"a가 크다\")\n",
        "else:\n",
        "  print(\"b가 크다\")"
      ],
      "metadata": {
        "colab": {
          "base_uri": "https://localhost:8080/"
        },
        "id": "38g7s26QJox0",
        "outputId": "35198a3e-f35b-4941-b564-5538649dfff1"
      },
      "execution_count": 79,
      "outputs": [
        {
          "output_type": "stream",
          "name": "stdout",
          "text": [
            "b가 크다\n"
          ]
        }
      ]
    },
    {
      "cell_type": "code",
      "source": [
        "a = 30\n",
        "b = 31\n",
        "if a > b:\n",
        "  print(\"a가 b보다 크다\")\n",
        "elif a == b:\n",
        "  print(\"a와 b가 같다\")\n",
        "else:\n",
        "  print(\"a가 b보다 작다\")"
      ],
      "metadata": {
        "colab": {
          "base_uri": "https://localhost:8080/"
        },
        "id": "xiVUSZ5lJ153",
        "outputId": "15deb055-37b2-452e-984f-efde8010715d"
      },
      "execution_count": 82,
      "outputs": [
        {
          "output_type": "stream",
          "name": "stdout",
          "text": [
            "a가 b보다 작다\n"
          ]
        }
      ]
    },
    {
      "cell_type": "code",
      "source": [
        "# input() 임의의 숫자만 입력 1 ~ 100\n",
        "# 90점 이상 -- A\n",
        "# 80점 이상 -- B\n",
        "# 70점 이상 -- C\n",
        "# 60점 이상 -- D\n",
        "# 나머지 -- F\n",
        "\n",
        "\n",
        "score = int(input(\"점수를 입력하세요\"))\n",
        "\n",
        "if score > 100:\n",
        "  print(\"오류입니다. 다시 입력하세요.\")\n",
        "elif score >= 90:\n",
        "  print(\"A 입니다.\")\n",
        "elif score >= 80:\n",
        "  print(\"B 입니다.\")\n",
        "elif score >= 70:\n",
        "  print(\"C 입니다.\")\n",
        "elif score >= 60:\n",
        "  print(\"D 입니다.\")\n",
        "else:\n",
        "  print(\"F 입니다.(과락)\")"
      ],
      "metadata": {
        "colab": {
          "base_uri": "https://localhost:8080/"
        },
        "id": "1goddGviKHQG",
        "outputId": "5a7cd15b-ab76-46a9-9ea1-c9c95a0e3cdf"
      },
      "execution_count": 88,
      "outputs": [
        {
          "output_type": "stream",
          "name": "stdout",
          "text": [
            "점수를 입력하세요102\n",
            "\n",
            "오류입니다. 다시 입력하세요.\n"
          ]
        }
      ]
    }
  ]
}